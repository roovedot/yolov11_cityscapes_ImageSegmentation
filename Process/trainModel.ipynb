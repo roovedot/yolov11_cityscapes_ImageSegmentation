{
 "cells": [
  {
   "cell_type": "code",
   "execution_count": 1,
   "id": "04ba5ba5-4a56-4b0f-849b-011e2c03f540",
   "metadata": {},
   "outputs": [
    {
     "name": "stdout",
     "output_type": "stream",
     "text": [
      "New https://pypi.org/project/ultralytics/8.3.39 available 😃 Update with 'pip install -U ultralytics'\n",
      "Ultralytics 8.3.31 🚀 Python-3.12.3 torch-2.5.1+cu124 CUDA:0 (NVIDIA GeForce RTX 3050 Laptop GPU, 3902MiB)\n",
      "\u001b[34m\u001b[1mengine/trainer: \u001b[0mtask=segment, mode=train, model=yolo11n-seg.pt, data=config.yaml, epochs=10, time=None, patience=100, batch=0.9, imgsz=640, save=True, save_period=-1, cache=False, device=0, workers=8, project=None, name=train24, exist_ok=False, pretrained=True, optimizer=auto, verbose=True, seed=0, deterministic=True, single_cls=False, rect=False, cos_lr=False, close_mosaic=10, resume=False, amp=True, fraction=1.0, profile=False, freeze=None, multi_scale=False, overlap_mask=True, mask_ratio=4, dropout=0.0, val=True, split=val, save_json=False, save_hybrid=False, conf=None, iou=0.7, max_det=300, half=False, dnn=False, plots=True, source=None, vid_stride=1, stream_buffer=False, visualize=False, augment=False, agnostic_nms=False, classes=None, retina_masks=False, embed=None, show=False, save_frames=False, save_txt=False, save_conf=False, save_crop=False, show_labels=True, show_conf=True, show_boxes=True, line_width=None, format=torchscript, keras=False, optimize=False, int8=False, dynamic=False, simplify=True, opset=None, workspace=4, nms=False, lr0=0.01, lrf=0.01, momentum=0.937, weight_decay=0.0005, warmup_epochs=3.0, warmup_momentum=0.8, warmup_bias_lr=0.1, box=7.5, cls=0.5, dfl=1.5, pose=12.0, kobj=1.0, label_smoothing=0.0, nbs=64, hsv_h=0.015, hsv_s=0.7, hsv_v=0.4, degrees=0.0, translate=0.1, scale=0.5, shear=0.0, perspective=0.0, flipud=0.0, fliplr=0.5, bgr=0.0, mosaic=1.0, mixup=0.0, copy_paste=0.0, copy_paste_mode=flip, auto_augment=randaugment, erasing=0.4, crop_fraction=1.0, cfg=None, tracker=botsort.yaml, save_dir=runs/segment/train24\n",
      "Overriding model.yaml nc=80 with nc=21\n",
      "\n",
      "                   from  n    params  module                                       arguments                     \n",
      "  0                  -1  1       464  ultralytics.nn.modules.conv.Conv             [3, 16, 3, 2]                 \n",
      "  1                  -1  1      4672  ultralytics.nn.modules.conv.Conv             [16, 32, 3, 2]                \n",
      "  2                  -1  1      6640  ultralytics.nn.modules.block.C3k2            [32, 64, 1, False, 0.25]      \n",
      "  3                  -1  1     36992  ultralytics.nn.modules.conv.Conv             [64, 64, 3, 2]                \n",
      "  4                  -1  1     26080  ultralytics.nn.modules.block.C3k2            [64, 128, 1, False, 0.25]     \n",
      "  5                  -1  1    147712  ultralytics.nn.modules.conv.Conv             [128, 128, 3, 2]              \n",
      "  6                  -1  1     87040  ultralytics.nn.modules.block.C3k2            [128, 128, 1, True]           \n",
      "  7                  -1  1    295424  ultralytics.nn.modules.conv.Conv             [128, 256, 3, 2]              \n",
      "  8                  -1  1    346112  ultralytics.nn.modules.block.C3k2            [256, 256, 1, True]           \n",
      "  9                  -1  1    164608  ultralytics.nn.modules.block.SPPF            [256, 256, 5]                 \n",
      " 10                  -1  1    249728  ultralytics.nn.modules.block.C2PSA           [256, 256, 1]                 \n",
      " 11                  -1  1         0  torch.nn.modules.upsampling.Upsample         [None, 2, 'nearest']          \n",
      " 12             [-1, 6]  1         0  ultralytics.nn.modules.conv.Concat           [1]                           \n",
      " 13                  -1  1    111296  ultralytics.nn.modules.block.C3k2            [384, 128, 1, False]          \n",
      " 14                  -1  1         0  torch.nn.modules.upsampling.Upsample         [None, 2, 'nearest']          \n",
      " 15             [-1, 4]  1         0  ultralytics.nn.modules.conv.Concat           [1]                           \n",
      " 16                  -1  1     32096  ultralytics.nn.modules.block.C3k2            [256, 64, 1, False]           \n",
      " 17                  -1  1     36992  ultralytics.nn.modules.conv.Conv             [64, 64, 3, 2]                \n",
      " 18            [-1, 13]  1         0  ultralytics.nn.modules.conv.Concat           [1]                           \n",
      " 19                  -1  1     86720  ultralytics.nn.modules.block.C3k2            [192, 128, 1, False]          \n",
      " 20                  -1  1    147712  ultralytics.nn.modules.conv.Conv             [128, 128, 3, 2]              \n",
      " 21            [-1, 10]  1         0  ultralytics.nn.modules.conv.Concat           [1]                           \n",
      " 22                  -1  1    378880  ultralytics.nn.modules.block.C3k2            [384, 256, 1, True]           \n",
      " 23        [16, 19, 22]  1    687535  ultralytics.nn.modules.head.Segment          [21, 32, 64, [64, 128, 256]]  \n",
      "YOLO11n-seg summary: 355 layers, 2,846,703 parameters, 2,846,687 gradients, 10.4 GFLOPs\n",
      "\n",
      "Transferred 510/561 items from pretrained weights\n",
      "Freezing layer 'model.23.dfl.conv.weight'\n",
      "\u001b[34m\u001b[1mAMP: \u001b[0mrunning Automatic Mixed Precision (AMP) checks...\n",
      "\u001b[34m\u001b[1mAMP: \u001b[0mchecks passed ✅\n"
     ]
    },
    {
     "name": "stderr",
     "output_type": "stream",
     "text": [
      "\u001b[34m\u001b[1mtrain: \u001b[0mScanning /media/roovedot/common/Pr.Inv.JavierFernandez/Image_Segmentation/dataYolo11Structure/train/labels.cache... 607 images, 0 backgrounds, 0 corrupt: 100%|██████████| 607/607 [00:00<?, ?it/s]"
     ]
    },
    {
     "name": "stdout",
     "output_type": "stream",
     "text": [
      "\u001b[34m\u001b[1mtrain: \u001b[0mWARNING ⚠️ /media/roovedot/common/Pr.Inv.JavierFernandez/Image_Segmentation/dataYolo11Structure/train/images/aachen_000042_000019_leftImg8bit.png: 1 duplicate labels removed\n",
      "\u001b[34m\u001b[1mtrain: \u001b[0mWARNING ⚠️ /media/roovedot/common/Pr.Inv.JavierFernandez/Image_Segmentation/dataYolo11Structure/train/images/aachen_000054_000019_leftImg8bit.png: 1 duplicate labels removed\n",
      "\u001b[34m\u001b[1mtrain: \u001b[0mWARNING ⚠️ /media/roovedot/common/Pr.Inv.JavierFernandez/Image_Segmentation/dataYolo11Structure/train/images/aachen_000060_000019_leftImg8bit.png: 24 duplicate labels removed\n",
      "\u001b[34m\u001b[1mtrain: \u001b[0mWARNING ⚠️ /media/roovedot/common/Pr.Inv.JavierFernandez/Image_Segmentation/dataYolo11Structure/train/images/aachen_000061_000019_leftImg8bit.png: 34 duplicate labels removed\n",
      "\u001b[34m\u001b[1mtrain: \u001b[0mWARNING ⚠️ /media/roovedot/common/Pr.Inv.JavierFernandez/Image_Segmentation/dataYolo11Structure/train/images/aachen_000062_000019_leftImg8bit.png: 8 duplicate labels removed\n",
      "\u001b[34m\u001b[1mtrain: \u001b[0mWARNING ⚠️ /media/roovedot/common/Pr.Inv.JavierFernandez/Image_Segmentation/dataYolo11Structure/train/images/aachen_000064_000019_leftImg8bit.png: 1 duplicate labels removed\n",
      "\u001b[34m\u001b[1mtrain: \u001b[0mWARNING ⚠️ /media/roovedot/common/Pr.Inv.JavierFernandez/Image_Segmentation/dataYolo11Structure/train/images/aachen_000070_000019_leftImg8bit.png: 1 duplicate labels removed\n",
      "\u001b[34m\u001b[1mtrain: \u001b[0mWARNING ⚠️ /media/roovedot/common/Pr.Inv.JavierFernandez/Image_Segmentation/dataYolo11Structure/train/images/aachen_000072_000019_leftImg8bit.png: 1 duplicate labels removed\n",
      "\u001b[34m\u001b[1mtrain: \u001b[0mWARNING ⚠️ /media/roovedot/common/Pr.Inv.JavierFernandez/Image_Segmentation/dataYolo11Structure/train/images/aachen_000078_000019_leftImg8bit.png: 2 duplicate labels removed\n",
      "\u001b[34m\u001b[1mtrain: \u001b[0mWARNING ⚠️ /media/roovedot/common/Pr.Inv.JavierFernandez/Image_Segmentation/dataYolo11Structure/train/images/aachen_000079_000019_leftImg8bit.png: 4 duplicate labels removed\n",
      "\u001b[34m\u001b[1mtrain: \u001b[0mWARNING ⚠️ /media/roovedot/common/Pr.Inv.JavierFernandez/Image_Segmentation/dataYolo11Structure/train/images/aachen_000080_000019_leftImg8bit.png: 24 duplicate labels removed\n",
      "\u001b[34m\u001b[1mtrain: \u001b[0mWARNING ⚠️ /media/roovedot/common/Pr.Inv.JavierFernandez/Image_Segmentation/dataYolo11Structure/train/images/aachen_000090_000019_leftImg8bit.png: 4 duplicate labels removed\n",
      "\u001b[34m\u001b[1mtrain: \u001b[0mWARNING ⚠️ /media/roovedot/common/Pr.Inv.JavierFernandez/Image_Segmentation/dataYolo11Structure/train/images/aachen_000092_000019_leftImg8bit.png: 1 duplicate labels removed\n",
      "\u001b[34m\u001b[1mtrain: \u001b[0mWARNING ⚠️ /media/roovedot/common/Pr.Inv.JavierFernandez/Image_Segmentation/dataYolo11Structure/train/images/aachen_000095_000019_leftImg8bit.png: 2 duplicate labels removed\n",
      "\u001b[34m\u001b[1mtrain: \u001b[0mWARNING ⚠️ /media/roovedot/common/Pr.Inv.JavierFernandez/Image_Segmentation/dataYolo11Structure/train/images/aachen_000096_000019_leftImg8bit.png: 3 duplicate labels removed\n",
      "\u001b[34m\u001b[1mtrain: \u001b[0mWARNING ⚠️ /media/roovedot/common/Pr.Inv.JavierFernandez/Image_Segmentation/dataYolo11Structure/train/images/aachen_000098_000019_leftImg8bit.png: 2 duplicate labels removed\n",
      "\u001b[34m\u001b[1mtrain: \u001b[0mWARNING ⚠️ /media/roovedot/common/Pr.Inv.JavierFernandez/Image_Segmentation/dataYolo11Structure/train/images/aachen_000152_000019_leftImg8bit.png: 6 duplicate labels removed\n",
      "\u001b[34m\u001b[1mtrain: \u001b[0mWARNING ⚠️ /media/roovedot/common/Pr.Inv.JavierFernandez/Image_Segmentation/dataYolo11Structure/train/images/aachen_000153_000019_leftImg8bit.png: 1 duplicate labels removed\n",
      "\u001b[34m\u001b[1mtrain: \u001b[0mWARNING ⚠️ /media/roovedot/common/Pr.Inv.JavierFernandez/Image_Segmentation/dataYolo11Structure/train/images/bochum_000000_000885_leftImg8bit.png: 1 duplicate labels removed\n",
      "\u001b[34m\u001b[1mtrain: \u001b[0mWARNING ⚠️ /media/roovedot/common/Pr.Inv.JavierFernandez/Image_Segmentation/dataYolo11Structure/train/images/bochum_000000_004748_leftImg8bit.png: 1 duplicate labels removed\n",
      "\u001b[34m\u001b[1mtrain: \u001b[0mWARNING ⚠️ /media/roovedot/common/Pr.Inv.JavierFernandez/Image_Segmentation/dataYolo11Structure/train/images/bochum_000000_007651_leftImg8bit.png: 1 duplicate labels removed\n",
      "\u001b[34m\u001b[1mtrain: \u001b[0mWARNING ⚠️ /media/roovedot/common/Pr.Inv.JavierFernandez/Image_Segmentation/dataYolo11Structure/train/images/bochum_000000_013209_leftImg8bit.png: 1 duplicate labels removed\n",
      "\u001b[34m\u001b[1mtrain: \u001b[0mWARNING ⚠️ /media/roovedot/common/Pr.Inv.JavierFernandez/Image_Segmentation/dataYolo11Structure/train/images/darmstadt_000004_000019_leftImg8bit.png: 1 duplicate labels removed\n",
      "\u001b[34m\u001b[1mtrain: \u001b[0mWARNING ⚠️ /media/roovedot/common/Pr.Inv.JavierFernandez/Image_Segmentation/dataYolo11Structure/train/images/darmstadt_000021_000019_leftImg8bit.png: 1 duplicate labels removed\n",
      "\u001b[34m\u001b[1mtrain: \u001b[0mWARNING ⚠️ /media/roovedot/common/Pr.Inv.JavierFernandez/Image_Segmentation/dataYolo11Structure/train/images/darmstadt_000046_000019_leftImg8bit.png: 1 duplicate labels removed\n",
      "\u001b[34m\u001b[1mtrain: \u001b[0mWARNING ⚠️ /media/roovedot/common/Pr.Inv.JavierFernandez/Image_Segmentation/dataYolo11Structure/train/images/darmstadt_000048_000019_leftImg8bit.png: 1 duplicate labels removed\n",
      "\u001b[34m\u001b[1mtrain: \u001b[0mWARNING ⚠️ /media/roovedot/common/Pr.Inv.JavierFernandez/Image_Segmentation/dataYolo11Structure/train/images/darmstadt_000061_000019_leftImg8bit.png: 1 duplicate labels removed\n",
      "\u001b[34m\u001b[1mtrain: \u001b[0mWARNING ⚠️ /media/roovedot/common/Pr.Inv.JavierFernandez/Image_Segmentation/dataYolo11Structure/train/images/darmstadt_000083_000019_leftImg8bit.png: 1 duplicate labels removed\n",
      "\u001b[34m\u001b[1mtrain: \u001b[0mWARNING ⚠️ /media/roovedot/common/Pr.Inv.JavierFernandez/Image_Segmentation/dataYolo11Structure/train/images/krefeld_000000_004447_leftImg8bit.png: 1 duplicate labels removed\n",
      "\u001b[34m\u001b[1mtrain: \u001b[0mWARNING ⚠️ /media/roovedot/common/Pr.Inv.JavierFernandez/Image_Segmentation/dataYolo11Structure/train/images/krefeld_000000_013766_leftImg8bit.png: 1 duplicate labels removed\n",
      "\u001b[34m\u001b[1mtrain: \u001b[0mWARNING ⚠️ /media/roovedot/common/Pr.Inv.JavierFernandez/Image_Segmentation/dataYolo11Structure/train/images/ulm_000001_000019_leftImg8bit.png: 1 duplicate labels removed\n",
      "\u001b[34m\u001b[1mtrain: \u001b[0mWARNING ⚠️ /media/roovedot/common/Pr.Inv.JavierFernandez/Image_Segmentation/dataYolo11Structure/train/images/ulm_000004_000019_leftImg8bit.png: 2 duplicate labels removed\n",
      "\u001b[34m\u001b[1mtrain: \u001b[0mWARNING ⚠️ /media/roovedot/common/Pr.Inv.JavierFernandez/Image_Segmentation/dataYolo11Structure/train/images/ulm_000005_000019_leftImg8bit.png: 4 duplicate labels removed\n",
      "\u001b[34m\u001b[1mtrain: \u001b[0mWARNING ⚠️ /media/roovedot/common/Pr.Inv.JavierFernandez/Image_Segmentation/dataYolo11Structure/train/images/ulm_000006_000019_leftImg8bit.png: 8 duplicate labels removed\n",
      "\u001b[34m\u001b[1mtrain: \u001b[0mWARNING ⚠️ /media/roovedot/common/Pr.Inv.JavierFernandez/Image_Segmentation/dataYolo11Structure/train/images/ulm_000011_000019_leftImg8bit.png: 1 duplicate labels removed\n",
      "\u001b[34m\u001b[1mtrain: \u001b[0mWARNING ⚠️ /media/roovedot/common/Pr.Inv.JavierFernandez/Image_Segmentation/dataYolo11Structure/train/images/ulm_000012_000019_leftImg8bit.png: 2 duplicate labels removed\n",
      "\u001b[34m\u001b[1mtrain: \u001b[0mWARNING ⚠️ /media/roovedot/common/Pr.Inv.JavierFernandez/Image_Segmentation/dataYolo11Structure/train/images/ulm_000013_000019_leftImg8bit.png: 2 duplicate labels removed\n",
      "\u001b[34m\u001b[1mtrain: \u001b[0mWARNING ⚠️ /media/roovedot/common/Pr.Inv.JavierFernandez/Image_Segmentation/dataYolo11Structure/train/images/ulm_000017_000019_leftImg8bit.png: 2 duplicate labels removed\n",
      "\u001b[34m\u001b[1mtrain: \u001b[0mWARNING ⚠️ /media/roovedot/common/Pr.Inv.JavierFernandez/Image_Segmentation/dataYolo11Structure/train/images/ulm_000024_000019_leftImg8bit.png: 2 duplicate labels removed\n",
      "\u001b[34m\u001b[1mtrain: \u001b[0mWARNING ⚠️ /media/roovedot/common/Pr.Inv.JavierFernandez/Image_Segmentation/dataYolo11Structure/train/images/ulm_000025_000019_leftImg8bit.png: 3 duplicate labels removed\n",
      "\u001b[34m\u001b[1mtrain: \u001b[0mWARNING ⚠️ /media/roovedot/common/Pr.Inv.JavierFernandez/Image_Segmentation/dataYolo11Structure/train/images/ulm_000037_000019_leftImg8bit.png: 1 duplicate labels removed\n",
      "\u001b[34m\u001b[1mtrain: \u001b[0mWARNING ⚠️ /media/roovedot/common/Pr.Inv.JavierFernandez/Image_Segmentation/dataYolo11Structure/train/images/ulm_000056_000019_leftImg8bit.png: 2 duplicate labels removed\n",
      "\u001b[34m\u001b[1mtrain: \u001b[0mWARNING ⚠️ /media/roovedot/common/Pr.Inv.JavierFernandez/Image_Segmentation/dataYolo11Structure/train/images/ulm_000058_000019_leftImg8bit.png: 3 duplicate labels removed\n",
      "\u001b[34m\u001b[1mtrain: \u001b[0mWARNING ⚠️ /media/roovedot/common/Pr.Inv.JavierFernandez/Image_Segmentation/dataYolo11Structure/train/images/ulm_000067_000019_leftImg8bit.png: 3 duplicate labels removed\n",
      "\u001b[34m\u001b[1mtrain: \u001b[0mWARNING ⚠️ /media/roovedot/common/Pr.Inv.JavierFernandez/Image_Segmentation/dataYolo11Structure/train/images/ulm_000068_000019_leftImg8bit.png: 3 duplicate labels removed\n",
      "\u001b[34m\u001b[1mtrain: \u001b[0mWARNING ⚠️ /media/roovedot/common/Pr.Inv.JavierFernandez/Image_Segmentation/dataYolo11Structure/train/images/ulm_000069_000019_leftImg8bit.png: 3 duplicate labels removed\n",
      "\u001b[34m\u001b[1mtrain: \u001b[0mWARNING ⚠️ /media/roovedot/common/Pr.Inv.JavierFernandez/Image_Segmentation/dataYolo11Structure/train/images/ulm_000078_000019_leftImg8bit.png: 1 duplicate labels removed\n",
      "\u001b[34m\u001b[1mtrain: \u001b[0mWARNING ⚠️ /media/roovedot/common/Pr.Inv.JavierFernandez/Image_Segmentation/dataYolo11Structure/train/images/ulm_000079_000019_leftImg8bit.png: 1 duplicate labels removed\n",
      "\u001b[34m\u001b[1mtrain: \u001b[0mWARNING ⚠️ /media/roovedot/common/Pr.Inv.JavierFernandez/Image_Segmentation/dataYolo11Structure/train/images/ulm_000084_000019_leftImg8bit.png: 2 duplicate labels removed\n",
      "\u001b[34m\u001b[1mAutoBatch: \u001b[0mComputing optimal batch size for imgsz=640 at 90.0% CUDA memory utilization.\n",
      "\u001b[34m\u001b[1mAutoBatch: \u001b[0mCUDA:0 (NVIDIA GeForce RTX 3050 Laptop GPU) 3.81G total, 0.10G reserved, 0.05G allocated, 3.66G free\n"
     ]
    },
    {
     "name": "stderr",
     "output_type": "stream",
     "text": [
      "\n"
     ]
    },
    {
     "name": "stdout",
     "output_type": "stream",
     "text": [
      "      Params      GFLOPs  GPU_mem (GB)  forward (ms) backward (ms)                   input                  output\n",
      "     2846703       10.38         0.239         25.23           nan        (1, 3, 640, 640)                    list\n",
      "     2846703       20.75         0.505         19.94           nan        (2, 3, 640, 640)                    list\n",
      "     2846703       41.51         0.996         20.68           nan        (4, 3, 640, 640)                    list\n",
      "     2846703       83.02         1.929         38.76           nan        (8, 3, 640, 640)                    list\n",
      "     2846703         166         3.773         75.63           nan       (16, 3, 640, 640)                    list\n",
      "\u001b[34m\u001b[1mAutoBatch: \u001b[0mUsing batch-size 13 for CUDA:0 3.23G/3.81G (85%) ✅\n"
     ]
    },
    {
     "name": "stderr",
     "output_type": "stream",
     "text": [
      "\u001b[34m\u001b[1mtrain: \u001b[0mScanning /media/roovedot/common/Pr.Inv.JavierFernandez/Image_Segmentation/dataYolo11Structure/train/labels.cache... 607 images, 0 backgrounds, 0 corrupt: 100%|██████████| 607/607 [00:00<?, ?it/s]"
     ]
    },
    {
     "name": "stdout",
     "output_type": "stream",
     "text": [
      "\u001b[34m\u001b[1mtrain: \u001b[0mWARNING ⚠️ /media/roovedot/common/Pr.Inv.JavierFernandez/Image_Segmentation/dataYolo11Structure/train/images/aachen_000042_000019_leftImg8bit.png: 1 duplicate labels removed\n",
      "\u001b[34m\u001b[1mtrain: \u001b[0mWARNING ⚠️ /media/roovedot/common/Pr.Inv.JavierFernandez/Image_Segmentation/dataYolo11Structure/train/images/aachen_000054_000019_leftImg8bit.png: 1 duplicate labels removed\n",
      "\u001b[34m\u001b[1mtrain: \u001b[0mWARNING ⚠️ /media/roovedot/common/Pr.Inv.JavierFernandez/Image_Segmentation/dataYolo11Structure/train/images/aachen_000060_000019_leftImg8bit.png: 24 duplicate labels removed\n",
      "\u001b[34m\u001b[1mtrain: \u001b[0mWARNING ⚠️ /media/roovedot/common/Pr.Inv.JavierFernandez/Image_Segmentation/dataYolo11Structure/train/images/aachen_000061_000019_leftImg8bit.png: 34 duplicate labels removed\n",
      "\u001b[34m\u001b[1mtrain: \u001b[0mWARNING ⚠️ /media/roovedot/common/Pr.Inv.JavierFernandez/Image_Segmentation/dataYolo11Structure/train/images/aachen_000062_000019_leftImg8bit.png: 8 duplicate labels removed\n",
      "\u001b[34m\u001b[1mtrain: \u001b[0mWARNING ⚠️ /media/roovedot/common/Pr.Inv.JavierFernandez/Image_Segmentation/dataYolo11Structure/train/images/aachen_000064_000019_leftImg8bit.png: 1 duplicate labels removed\n",
      "\u001b[34m\u001b[1mtrain: \u001b[0mWARNING ⚠️ /media/roovedot/common/Pr.Inv.JavierFernandez/Image_Segmentation/dataYolo11Structure/train/images/aachen_000070_000019_leftImg8bit.png: 1 duplicate labels removed\n",
      "\u001b[34m\u001b[1mtrain: \u001b[0mWARNING ⚠️ /media/roovedot/common/Pr.Inv.JavierFernandez/Image_Segmentation/dataYolo11Structure/train/images/aachen_000072_000019_leftImg8bit.png: 1 duplicate labels removed\n",
      "\u001b[34m\u001b[1mtrain: \u001b[0mWARNING ⚠️ /media/roovedot/common/Pr.Inv.JavierFernandez/Image_Segmentation/dataYolo11Structure/train/images/aachen_000078_000019_leftImg8bit.png: 2 duplicate labels removed\n",
      "\u001b[34m\u001b[1mtrain: \u001b[0mWARNING ⚠️ /media/roovedot/common/Pr.Inv.JavierFernandez/Image_Segmentation/dataYolo11Structure/train/images/aachen_000079_000019_leftImg8bit.png: 4 duplicate labels removed\n",
      "\u001b[34m\u001b[1mtrain: \u001b[0mWARNING ⚠️ /media/roovedot/common/Pr.Inv.JavierFernandez/Image_Segmentation/dataYolo11Structure/train/images/aachen_000080_000019_leftImg8bit.png: 24 duplicate labels removed\n",
      "\u001b[34m\u001b[1mtrain: \u001b[0mWARNING ⚠️ /media/roovedot/common/Pr.Inv.JavierFernandez/Image_Segmentation/dataYolo11Structure/train/images/aachen_000090_000019_leftImg8bit.png: 4 duplicate labels removed\n",
      "\u001b[34m\u001b[1mtrain: \u001b[0mWARNING ⚠️ /media/roovedot/common/Pr.Inv.JavierFernandez/Image_Segmentation/dataYolo11Structure/train/images/aachen_000092_000019_leftImg8bit.png: 1 duplicate labels removed\n",
      "\u001b[34m\u001b[1mtrain: \u001b[0mWARNING ⚠️ /media/roovedot/common/Pr.Inv.JavierFernandez/Image_Segmentation/dataYolo11Structure/train/images/aachen_000095_000019_leftImg8bit.png: 2 duplicate labels removed\n",
      "\u001b[34m\u001b[1mtrain: \u001b[0mWARNING ⚠️ /media/roovedot/common/Pr.Inv.JavierFernandez/Image_Segmentation/dataYolo11Structure/train/images/aachen_000096_000019_leftImg8bit.png: 3 duplicate labels removed\n",
      "\u001b[34m\u001b[1mtrain: \u001b[0mWARNING ⚠️ /media/roovedot/common/Pr.Inv.JavierFernandez/Image_Segmentation/dataYolo11Structure/train/images/aachen_000098_000019_leftImg8bit.png: 2 duplicate labels removed\n",
      "\u001b[34m\u001b[1mtrain: \u001b[0mWARNING ⚠️ /media/roovedot/common/Pr.Inv.JavierFernandez/Image_Segmentation/dataYolo11Structure/train/images/aachen_000152_000019_leftImg8bit.png: 6 duplicate labels removed\n",
      "\u001b[34m\u001b[1mtrain: \u001b[0mWARNING ⚠️ /media/roovedot/common/Pr.Inv.JavierFernandez/Image_Segmentation/dataYolo11Structure/train/images/aachen_000153_000019_leftImg8bit.png: 1 duplicate labels removed\n",
      "\u001b[34m\u001b[1mtrain: \u001b[0mWARNING ⚠️ /media/roovedot/common/Pr.Inv.JavierFernandez/Image_Segmentation/dataYolo11Structure/train/images/bochum_000000_000885_leftImg8bit.png: 1 duplicate labels removed\n",
      "\u001b[34m\u001b[1mtrain: \u001b[0mWARNING ⚠️ /media/roovedot/common/Pr.Inv.JavierFernandez/Image_Segmentation/dataYolo11Structure/train/images/bochum_000000_004748_leftImg8bit.png: 1 duplicate labels removed\n",
      "\u001b[34m\u001b[1mtrain: \u001b[0mWARNING ⚠️ /media/roovedot/common/Pr.Inv.JavierFernandez/Image_Segmentation/dataYolo11Structure/train/images/bochum_000000_007651_leftImg8bit.png: 1 duplicate labels removed\n",
      "\u001b[34m\u001b[1mtrain: \u001b[0mWARNING ⚠️ /media/roovedot/common/Pr.Inv.JavierFernandez/Image_Segmentation/dataYolo11Structure/train/images/bochum_000000_013209_leftImg8bit.png: 1 duplicate labels removed\n",
      "\u001b[34m\u001b[1mtrain: \u001b[0mWARNING ⚠️ /media/roovedot/common/Pr.Inv.JavierFernandez/Image_Segmentation/dataYolo11Structure/train/images/darmstadt_000004_000019_leftImg8bit.png: 1 duplicate labels removed\n",
      "\u001b[34m\u001b[1mtrain: \u001b[0mWARNING ⚠️ /media/roovedot/common/Pr.Inv.JavierFernandez/Image_Segmentation/dataYolo11Structure/train/images/darmstadt_000021_000019_leftImg8bit.png: 1 duplicate labels removed\n",
      "\u001b[34m\u001b[1mtrain: \u001b[0mWARNING ⚠️ /media/roovedot/common/Pr.Inv.JavierFernandez/Image_Segmentation/dataYolo11Structure/train/images/darmstadt_000046_000019_leftImg8bit.png: 1 duplicate labels removed\n",
      "\u001b[34m\u001b[1mtrain: \u001b[0mWARNING ⚠️ /media/roovedot/common/Pr.Inv.JavierFernandez/Image_Segmentation/dataYolo11Structure/train/images/darmstadt_000048_000019_leftImg8bit.png: 1 duplicate labels removed\n",
      "\u001b[34m\u001b[1mtrain: \u001b[0mWARNING ⚠️ /media/roovedot/common/Pr.Inv.JavierFernandez/Image_Segmentation/dataYolo11Structure/train/images/darmstadt_000061_000019_leftImg8bit.png: 1 duplicate labels removed\n",
      "\u001b[34m\u001b[1mtrain: \u001b[0mWARNING ⚠️ /media/roovedot/common/Pr.Inv.JavierFernandez/Image_Segmentation/dataYolo11Structure/train/images/darmstadt_000083_000019_leftImg8bit.png: 1 duplicate labels removed\n",
      "\u001b[34m\u001b[1mtrain: \u001b[0mWARNING ⚠️ /media/roovedot/common/Pr.Inv.JavierFernandez/Image_Segmentation/dataYolo11Structure/train/images/krefeld_000000_004447_leftImg8bit.png: 1 duplicate labels removed\n",
      "\u001b[34m\u001b[1mtrain: \u001b[0mWARNING ⚠️ /media/roovedot/common/Pr.Inv.JavierFernandez/Image_Segmentation/dataYolo11Structure/train/images/krefeld_000000_013766_leftImg8bit.png: 1 duplicate labels removed\n",
      "\u001b[34m\u001b[1mtrain: \u001b[0mWARNING ⚠️ /media/roovedot/common/Pr.Inv.JavierFernandez/Image_Segmentation/dataYolo11Structure/train/images/ulm_000001_000019_leftImg8bit.png: 1 duplicate labels removed\n",
      "\u001b[34m\u001b[1mtrain: \u001b[0mWARNING ⚠️ /media/roovedot/common/Pr.Inv.JavierFernandez/Image_Segmentation/dataYolo11Structure/train/images/ulm_000004_000019_leftImg8bit.png: 2 duplicate labels removed\n",
      "\u001b[34m\u001b[1mtrain: \u001b[0mWARNING ⚠️ /media/roovedot/common/Pr.Inv.JavierFernandez/Image_Segmentation/dataYolo11Structure/train/images/ulm_000005_000019_leftImg8bit.png: 4 duplicate labels removed\n",
      "\u001b[34m\u001b[1mtrain: \u001b[0mWARNING ⚠️ /media/roovedot/common/Pr.Inv.JavierFernandez/Image_Segmentation/dataYolo11Structure/train/images/ulm_000006_000019_leftImg8bit.png: 8 duplicate labels removed\n",
      "\u001b[34m\u001b[1mtrain: \u001b[0mWARNING ⚠️ /media/roovedot/common/Pr.Inv.JavierFernandez/Image_Segmentation/dataYolo11Structure/train/images/ulm_000011_000019_leftImg8bit.png: 1 duplicate labels removed\n",
      "\u001b[34m\u001b[1mtrain: \u001b[0mWARNING ⚠️ /media/roovedot/common/Pr.Inv.JavierFernandez/Image_Segmentation/dataYolo11Structure/train/images/ulm_000012_000019_leftImg8bit.png: 2 duplicate labels removed\n",
      "\u001b[34m\u001b[1mtrain: \u001b[0mWARNING ⚠️ /media/roovedot/common/Pr.Inv.JavierFernandez/Image_Segmentation/dataYolo11Structure/train/images/ulm_000013_000019_leftImg8bit.png: 2 duplicate labels removed\n",
      "\u001b[34m\u001b[1mtrain: \u001b[0mWARNING ⚠️ /media/roovedot/common/Pr.Inv.JavierFernandez/Image_Segmentation/dataYolo11Structure/train/images/ulm_000017_000019_leftImg8bit.png: 2 duplicate labels removed\n",
      "\u001b[34m\u001b[1mtrain: \u001b[0mWARNING ⚠️ /media/roovedot/common/Pr.Inv.JavierFernandez/Image_Segmentation/dataYolo11Structure/train/images/ulm_000024_000019_leftImg8bit.png: 2 duplicate labels removed\n",
      "\u001b[34m\u001b[1mtrain: \u001b[0mWARNING ⚠️ /media/roovedot/common/Pr.Inv.JavierFernandez/Image_Segmentation/dataYolo11Structure/train/images/ulm_000025_000019_leftImg8bit.png: 3 duplicate labels removed\n",
      "\u001b[34m\u001b[1mtrain: \u001b[0mWARNING ⚠️ /media/roovedot/common/Pr.Inv.JavierFernandez/Image_Segmentation/dataYolo11Structure/train/images/ulm_000037_000019_leftImg8bit.png: 1 duplicate labels removed\n",
      "\u001b[34m\u001b[1mtrain: \u001b[0mWARNING ⚠️ /media/roovedot/common/Pr.Inv.JavierFernandez/Image_Segmentation/dataYolo11Structure/train/images/ulm_000056_000019_leftImg8bit.png: 2 duplicate labels removed\n",
      "\u001b[34m\u001b[1mtrain: \u001b[0mWARNING ⚠️ /media/roovedot/common/Pr.Inv.JavierFernandez/Image_Segmentation/dataYolo11Structure/train/images/ulm_000058_000019_leftImg8bit.png: 3 duplicate labels removed\n",
      "\u001b[34m\u001b[1mtrain: \u001b[0mWARNING ⚠️ /media/roovedot/common/Pr.Inv.JavierFernandez/Image_Segmentation/dataYolo11Structure/train/images/ulm_000067_000019_leftImg8bit.png: 3 duplicate labels removed\n",
      "\u001b[34m\u001b[1mtrain: \u001b[0mWARNING ⚠️ /media/roovedot/common/Pr.Inv.JavierFernandez/Image_Segmentation/dataYolo11Structure/train/images/ulm_000068_000019_leftImg8bit.png: 3 duplicate labels removed\n",
      "\u001b[34m\u001b[1mtrain: \u001b[0mWARNING ⚠️ /media/roovedot/common/Pr.Inv.JavierFernandez/Image_Segmentation/dataYolo11Structure/train/images/ulm_000069_000019_leftImg8bit.png: 3 duplicate labels removed\n",
      "\u001b[34m\u001b[1mtrain: \u001b[0mWARNING ⚠️ /media/roovedot/common/Pr.Inv.JavierFernandez/Image_Segmentation/dataYolo11Structure/train/images/ulm_000078_000019_leftImg8bit.png: 1 duplicate labels removed\n",
      "\u001b[34m\u001b[1mtrain: \u001b[0mWARNING ⚠️ /media/roovedot/common/Pr.Inv.JavierFernandez/Image_Segmentation/dataYolo11Structure/train/images/ulm_000079_000019_leftImg8bit.png: 1 duplicate labels removed\n",
      "\u001b[34m\u001b[1mtrain: \u001b[0mWARNING ⚠️ /media/roovedot/common/Pr.Inv.JavierFernandez/Image_Segmentation/dataYolo11Structure/train/images/ulm_000084_000019_leftImg8bit.png: 2 duplicate labels removed\n"
     ]
    },
    {
     "name": "stderr",
     "output_type": "stream",
     "text": [
      "\n",
      "\u001b[34m\u001b[1mval: \u001b[0mScanning /media/roovedot/common/Pr.Inv.JavierFernandez/Image_Segmentation/dataYolo11Structure/valid/labels.cache... 36 images, 0 backgrounds, 0 corrupt: 100%|██████████| 36/36 [00:00<?, ?it/s]"
     ]
    },
    {
     "name": "stdout",
     "output_type": "stream",
     "text": [
      "\u001b[34m\u001b[1mval: \u001b[0mWARNING ⚠️ /media/roovedot/common/Pr.Inv.JavierFernandez/Image_Segmentation/dataYolo11Structure/valid/images/aachen_000000_000019_leftImg8bit.png: 3 duplicate labels removed\n",
      "\u001b[34m\u001b[1mval: \u001b[0mWARNING ⚠️ /media/roovedot/common/Pr.Inv.JavierFernandez/Image_Segmentation/dataYolo11Structure/valid/images/aachen_000008_000019_leftImg8bit.png: 1 duplicate labels removed\n",
      "\u001b[34m\u001b[1mval: \u001b[0mWARNING ⚠️ /media/roovedot/common/Pr.Inv.JavierFernandez/Image_Segmentation/dataYolo11Structure/valid/images/aachen_000022_000019_leftImg8bit.png: 1 duplicate labels removed\n",
      "\u001b[34m\u001b[1mval: \u001b[0mWARNING ⚠️ /media/roovedot/common/Pr.Inv.JavierFernandez/Image_Segmentation/dataYolo11Structure/valid/images/aachen_000030_000019_leftImg8bit.png: 3 duplicate labels removed\n",
      "\u001b[34m\u001b[1mval: \u001b[0mWARNING ⚠️ /media/roovedot/common/Pr.Inv.JavierFernandez/Image_Segmentation/dataYolo11Structure/valid/images/aachen_000031_000019_leftImg8bit.png: 1 duplicate labels removed\n"
     ]
    },
    {
     "name": "stderr",
     "output_type": "stream",
     "text": [
      "\n"
     ]
    },
    {
     "name": "stdout",
     "output_type": "stream",
     "text": [
      "Plotting labels to runs/segment/train24/labels.jpg... \n",
      "\u001b[34m\u001b[1moptimizer:\u001b[0m 'optimizer=auto' found, ignoring 'lr0=0.01' and 'momentum=0.937' and determining best 'optimizer', 'lr0' and 'momentum' automatically... \n",
      "\u001b[34m\u001b[1moptimizer:\u001b[0m AdamW(lr=0.0004, momentum=0.9) with parameter groups 90 weight(decay=0.0), 101 weight(decay=0.0005078125), 100 bias(decay=0.0)\n",
      "Image sizes 640 train, 640 val\n",
      "Using 8 dataloader workers\n",
      "Logging results to \u001b[1mruns/segment/train24\u001b[0m\n",
      "Starting training for 10 epochs...\n",
      "Closing dataloader mosaic\n",
      "\n",
      "      Epoch    GPU_mem   box_loss   seg_loss   cls_loss   dfl_loss  Instances       Size\n"
     ]
    },
    {
     "name": "stderr",
     "output_type": "stream",
     "text": [
      "       1/10      3.25G      1.749       4.14      4.306      1.324        246        640: 100%|██████████| 47/47 [00:13<00:00,  3.57it/s]\n",
      "                 Class     Images  Instances      Box(P          R      mAP50  mAP50-95)     Mask(P          R      mAP50  mAP50-95): 100%|██████████| 2/2 [00:00<00:00,  5.50it/s]"
     ]
    },
    {
     "name": "stdout",
     "output_type": "stream",
     "text": [
      "                   all         36       1258      0.137     0.0654      0.101     0.0859      0.137     0.0654      0.101     0.0703\n"
     ]
    },
    {
     "name": "stderr",
     "output_type": "stream",
     "text": [
      "\n"
     ]
    },
    {
     "name": "stdout",
     "output_type": "stream",
     "text": [
      "\n",
      "      Epoch    GPU_mem   box_loss   seg_loss   cls_loss   dfl_loss  Instances       Size\n"
     ]
    },
    {
     "name": "stderr",
     "output_type": "stream",
     "text": [
      "       2/10      3.27G        1.8      3.571      3.432      1.253        272        640: 100%|██████████| 47/47 [00:11<00:00,  4.19it/s]\n",
      "                 Class     Images  Instances      Box(P          R      mAP50  mAP50-95)     Mask(P          R      mAP50  mAP50-95): 100%|██████████| 2/2 [00:00<00:00,  7.19it/s]"
     ]
    },
    {
     "name": "stdout",
     "output_type": "stream",
     "text": [
      "                   all         36       1258     0.0594       0.18      0.131     0.0978      0.548     0.0985       0.11     0.0685\n"
     ]
    },
    {
     "name": "stderr",
     "output_type": "stream",
     "text": [
      "\n"
     ]
    },
    {
     "name": "stdout",
     "output_type": "stream",
     "text": [
      "\n",
      "      Epoch    GPU_mem   box_loss   seg_loss   cls_loss   dfl_loss  Instances       Size\n"
     ]
    },
    {
     "name": "stderr",
     "output_type": "stream",
     "text": [
      "       3/10       3.1G      1.745      3.447      2.698      1.229        187        640: 100%|██████████| 47/47 [00:11<00:00,  4.20it/s]\n",
      "                 Class     Images  Instances      Box(P          R      mAP50  mAP50-95)     Mask(P          R      mAP50  mAP50-95): 100%|██████████| 2/2 [00:00<00:00,  6.45it/s]"
     ]
    },
    {
     "name": "stdout",
     "output_type": "stream",
     "text": [
      "                   all         36       1258      0.664      0.126      0.148      0.103      0.704      0.111      0.119     0.0701\n"
     ]
    },
    {
     "name": "stderr",
     "output_type": "stream",
     "text": [
      "\n"
     ]
    },
    {
     "name": "stdout",
     "output_type": "stream",
     "text": [
      "\n",
      "      Epoch    GPU_mem   box_loss   seg_loss   cls_loss   dfl_loss  Instances       Size\n"
     ]
    },
    {
     "name": "stderr",
     "output_type": "stream",
     "text": [
      "       4/10       3.1G      1.644      3.372      2.236      1.205        248        640: 100%|██████████| 47/47 [00:11<00:00,  4.21it/s]\n",
      "                 Class     Images  Instances      Box(P          R      mAP50  mAP50-95)     Mask(P          R      mAP50  mAP50-95): 100%|██████████| 2/2 [00:00<00:00,  6.11it/s]"
     ]
    },
    {
     "name": "stdout",
     "output_type": "stream",
     "text": [
      "                   all         36       1258      0.729      0.164      0.173      0.116      0.771      0.131       0.13     0.0745\n"
     ]
    },
    {
     "name": "stderr",
     "output_type": "stream",
     "text": [
      "\n"
     ]
    },
    {
     "name": "stdout",
     "output_type": "stream",
     "text": [
      "\n",
      "      Epoch    GPU_mem   box_loss   seg_loss   cls_loss   dfl_loss  Instances       Size\n"
     ]
    },
    {
     "name": "stderr",
     "output_type": "stream",
     "text": [
      "       5/10       3.3G      1.587      3.299      1.969       1.18        273        640: 100%|██████████| 47/47 [00:11<00:00,  4.20it/s]\n",
      "                 Class     Images  Instances      Box(P          R      mAP50  mAP50-95)     Mask(P          R      mAP50  mAP50-95): 100%|██████████| 2/2 [00:00<00:00,  6.05it/s]"
     ]
    },
    {
     "name": "stdout",
     "output_type": "stream",
     "text": [
      "                   all         36       1258      0.633       0.17      0.177      0.121      0.599      0.144      0.136     0.0782\n"
     ]
    },
    {
     "name": "stderr",
     "output_type": "stream",
     "text": [
      "\n"
     ]
    },
    {
     "name": "stdout",
     "output_type": "stream",
     "text": [
      "\n",
      "      Epoch    GPU_mem   box_loss   seg_loss   cls_loss   dfl_loss  Instances       Size\n"
     ]
    },
    {
     "name": "stderr",
     "output_type": "stream",
     "text": [
      "       6/10       3.1G      1.545      3.236      1.815      1.164        226        640: 100%|██████████| 47/47 [00:11<00:00,  4.18it/s]\n",
      "                 Class     Images  Instances      Box(P          R      mAP50  mAP50-95)     Mask(P          R      mAP50  mAP50-95): 100%|██████████| 2/2 [00:00<00:00,  6.06it/s]"
     ]
    },
    {
     "name": "stdout",
     "output_type": "stream",
     "text": [
      "                   all         36       1258      0.634      0.201      0.192      0.132      0.577       0.16      0.139     0.0829\n"
     ]
    },
    {
     "name": "stderr",
     "output_type": "stream",
     "text": [
      "\n"
     ]
    },
    {
     "name": "stdout",
     "output_type": "stream",
     "text": [
      "\n",
      "      Epoch    GPU_mem   box_loss   seg_loss   cls_loss   dfl_loss  Instances       Size\n"
     ]
    },
    {
     "name": "stderr",
     "output_type": "stream",
     "text": [
      "       7/10      3.07G      1.524      3.209      1.752      1.156        304        640: 100%|██████████| 47/47 [00:11<00:00,  4.18it/s]\n",
      "                 Class     Images  Instances      Box(P          R      mAP50  mAP50-95)     Mask(P          R      mAP50  mAP50-95): 100%|██████████| 2/2 [00:00<00:00,  6.06it/s]"
     ]
    },
    {
     "name": "stdout",
     "output_type": "stream",
     "text": [
      "                   all         36       1258      0.525      0.214      0.198      0.135      0.692      0.151      0.148     0.0851\n"
     ]
    },
    {
     "name": "stderr",
     "output_type": "stream",
     "text": [
      "\n"
     ]
    },
    {
     "name": "stdout",
     "output_type": "stream",
     "text": [
      "\n",
      "      Epoch    GPU_mem   box_loss   seg_loss   cls_loss   dfl_loss  Instances       Size\n"
     ]
    },
    {
     "name": "stderr",
     "output_type": "stream",
     "text": [
      "       8/10      3.37G      1.479      3.174      1.684      1.139        248        640: 100%|██████████| 47/47 [00:11<00:00,  4.18it/s]\n",
      "                 Class     Images  Instances      Box(P          R      mAP50  mAP50-95)     Mask(P          R      mAP50  mAP50-95): 100%|██████████| 2/2 [00:00<00:00,  5.92it/s]"
     ]
    },
    {
     "name": "stdout",
     "output_type": "stream",
     "text": [
      "                   all         36       1258      0.613      0.213      0.213      0.143      0.652      0.157      0.154     0.0906\n"
     ]
    },
    {
     "name": "stderr",
     "output_type": "stream",
     "text": [
      "\n"
     ]
    },
    {
     "name": "stdout",
     "output_type": "stream",
     "text": [
      "\n",
      "      Epoch    GPU_mem   box_loss   seg_loss   cls_loss   dfl_loss  Instances       Size\n"
     ]
    },
    {
     "name": "stderr",
     "output_type": "stream",
     "text": [
      "       9/10      3.24G      1.464      3.141      1.631      1.132        223        640: 100%|██████████| 47/47 [00:11<00:00,  4.17it/s]\n",
      "                 Class     Images  Instances      Box(P          R      mAP50  mAP50-95)     Mask(P          R      mAP50  mAP50-95): 100%|██████████| 2/2 [00:00<00:00,  6.17it/s]"
     ]
    },
    {
     "name": "stdout",
     "output_type": "stream",
     "text": [
      "                   all         36       1258      0.619      0.212      0.212      0.141      0.572      0.168      0.155     0.0899\n"
     ]
    },
    {
     "name": "stderr",
     "output_type": "stream",
     "text": [
      "\n"
     ]
    },
    {
     "name": "stdout",
     "output_type": "stream",
     "text": [
      "\n",
      "      Epoch    GPU_mem   box_loss   seg_loss   cls_loss   dfl_loss  Instances       Size\n"
     ]
    },
    {
     "name": "stderr",
     "output_type": "stream",
     "text": [
      "      10/10      3.25G      1.439      3.124      1.605      1.135        213        640: 100%|██████████| 47/47 [00:11<00:00,  4.15it/s]\n",
      "                 Class     Images  Instances      Box(P          R      mAP50  mAP50-95)     Mask(P          R      mAP50  mAP50-95): 100%|██████████| 2/2 [00:00<00:00,  5.83it/s]"
     ]
    },
    {
     "name": "stdout",
     "output_type": "stream",
     "text": [
      "                   all         36       1258      0.644      0.209      0.215      0.144      0.565      0.164      0.155     0.0902\n"
     ]
    },
    {
     "name": "stderr",
     "output_type": "stream",
     "text": [
      "\n"
     ]
    },
    {
     "name": "stdout",
     "output_type": "stream",
     "text": [
      "\n",
      "10 epochs completed in 0.034 hours.\n",
      "Optimizer stripped from runs/segment/train24/weights/last.pt, 6.0MB\n",
      "Optimizer stripped from runs/segment/train24/weights/best.pt, 6.0MB\n",
      "\n",
      "Validating runs/segment/train24/weights/best.pt...\n",
      "Ultralytics 8.3.31 🚀 Python-3.12.3 torch-2.5.1+cu124 CUDA:0 (NVIDIA GeForce RTX 3050 Laptop GPU, 3902MiB)\n",
      "YOLO11n-seg summary (fused): 265 layers, 2,838,663 parameters, 0 gradients, 10.2 GFLOPs\n"
     ]
    },
    {
     "name": "stderr",
     "output_type": "stream",
     "text": [
      "                 Class     Images  Instances      Box(P          R      mAP50  mAP50-95)     Mask(P          R      mAP50  mAP50-95): 100%|██████████| 2/2 [00:00<00:00,  5.94it/s]\n"
     ]
    },
    {
     "name": "stdout",
     "output_type": "stream",
     "text": [
      "                   all         36       1258      0.646      0.208      0.215      0.144      0.566      0.164      0.155     0.0899\n",
      "                ground         18         25          1          0     0.0378      0.034          1          0     0.0337     0.0224\n",
      "                  road         33         34      0.921      0.971      0.961      0.848      0.894      0.941      0.934      0.782\n",
      "              sidewalk         36         91      0.455      0.363      0.358      0.205       0.39      0.286      0.284      0.156\n",
      "               parking         10         16      0.548       0.38      0.445      0.264      0.292      0.188      0.132     0.0323\n",
      "                  wall         15         23          1          0          0          0          1          0          0          0\n",
      "                 fence         14         18          1          0          0          0          1          0          0          0\n",
      "         traffic light         22        158      0.379      0.108     0.0899     0.0326      0.437      0.114      0.107     0.0309\n",
      "               terrain         24         71      0.392     0.0986      0.101     0.0302       0.26     0.0594     0.0549     0.0176\n",
      "                person         32        364      0.484      0.396       0.39      0.214      0.424      0.324      0.286      0.118\n",
      "                 rider         14         18      0.134      0.167     0.0727     0.0391      0.097      0.111       0.02    0.00497\n",
      "                   car         35        355      0.587      0.569      0.597      0.385      0.438      0.411      0.404      0.169\n",
      "                   bus          8         14          1          0      0.029     0.0261          1          0      0.029     0.0029\n",
      "               trailer          3          3          1          0          0          0          1          0          0          0\n",
      "            motorcycle          9         14          0          0    0.00914    0.00408          0          0    0.00914    0.00204\n",
      "               bicycle         25         54      0.787     0.0692      0.134     0.0721      0.254     0.0185      0.031    0.00951\n",
      "Speed: 0.1ms preprocess, 2.2ms inference, 0.0ms loss, 0.7ms postprocess per image\n",
      "Results saved to \u001b[1mruns/segment/train24\u001b[0m\n"
     ]
    }
   ],
   "source": [
    "from ultralytics import YOLO\n",
    "import torch\n",
    "torch.cuda.empty_cache()\n",
    "\n",
    "# Load a model\n",
    "model = YOLO(\"yolo11n-seg.pt\")\n",
    "\n",
    "# Train the model\n",
    "train_results = model.train(\n",
    "    data=\"config.yaml\",  # path to dataset YAML\n",
    "    epochs=10,  # number of training epochs\n",
    "    batch=0.90, # auto batch size to use 90% of RAM memory\n",
    "    imgsz=640,  # training image size\n",
    "    device=0,  # device to run on, i.e. device=0 or device=0,1,2,3 or device=cpu\n",
    "    amp=True\n",
    ")\n"
   ]
  },
  {
   "cell_type": "code",
   "execution_count": null,
   "id": "c71339a3-8fec-4732-b1f4-41dde923ad03",
   "metadata": {},
   "outputs": [],
   "source": [
    "model = YOLO('runs\\\\segment\\\\train\\\\weights\\\\best.pt')\n",
    "results = model(\"test_images/1.jpg\", save=True)\n",
    "results[0].show()"
   ]
  },
  {
   "cell_type": "code",
   "execution_count": null,
   "id": "1469d0a6-ed4d-4407-ba84-1dd2e83fe6be",
   "metadata": {},
   "outputs": [],
   "source": [
    "model = YOLO('runs\\\\segment\\\\train\\\\weights\\\\best.pt')\n",
    "results = model(\"test_images\", save=True)\n"
   ]
  },
  {
   "cell_type": "code",
   "execution_count": null,
   "id": "4bbf208d-9c7c-44bf-86ba-1664041b8076",
   "metadata": {},
   "outputs": [],
   "source": []
  }
 ],
 "metadata": {
  "kernelspec": {
   "display_name": "Python 3",
   "language": "python",
   "name": "python3"
  },
  "language_info": {
   "codemirror_mode": {
    "name": "ipython",
    "version": 3
   },
   "file_extension": ".py",
   "mimetype": "text/x-python",
   "name": "python",
   "nbconvert_exporter": "python",
   "pygments_lexer": "ipython3",
   "version": "3.12.3"
  }
 },
 "nbformat": 4,
 "nbformat_minor": 5
}
